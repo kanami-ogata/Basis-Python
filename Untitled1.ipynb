{
  "nbformat": 4,
  "nbformat_minor": 0,
  "metadata": {
    "colab": {
      "provenance": [],
      "authorship_tag": "ABX9TyNJcOrgM/gsOfRRaR2bQrDo",
      "include_colab_link": true
    },
    "kernelspec": {
      "name": "python3",
      "display_name": "Python 3"
    },
    "language_info": {
      "name": "python"
    }
  },
  "cells": [
    {
      "cell_type": "markdown",
      "metadata": {
        "id": "view-in-github",
        "colab_type": "text"
      },
      "source": [
        "<a href=\"https://colab.research.google.com/github/kanami-ogata/Basis-Python/blob/kanamiogata-1/Untitled1.ipynb\" target=\"_parent\"><img src=\"https://colab.research.google.com/assets/colab-badge.svg\" alt=\"Open In Colab\"/></a>"
      ]
    },
    {
      "cell_type": "code",
      "source": [
        "a = list(map(len, ('How', 'I', 'want', 'a', 'drink', 'heavy', 'alcoholic', 'of', 'course', 'after', 'the', 'chapters', 'involving', 'quantum', 'mechanics', 'All', 'f', 'thy', 'geometry', 'Herr', 'Planck', 'is', 'fairly', 'hard')))\n",
        "b=map(str,a)\n",
        "result = ''.join(b)\n",
        "print(result)"
      ],
      "metadata": {
        "colab": {
          "base_uri": "https://localhost:8080/"
        },
        "id": "mA5zLLPdxyuq",
        "outputId": "39733df1-5931-4a9a-e9d6-42fd0dd830a6"
      },
      "execution_count": 43,
      "outputs": [
        {
          "output_type": "stream",
          "name": "stdout",
          "text": [
            "314155926538979313846264\n"
          ]
        }
      ]
    }
  ]
}