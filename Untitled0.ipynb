{
  "nbformat": 4,
  "nbformat_minor": 0,
  "metadata": {
    "colab": {
      "provenance": [],
      "authorship_tag": "ABX9TyOC2ytUbdrsiHdSB9GG7Xhq",
      "include_colab_link": true
    },
    "kernelspec": {
      "name": "python3",
      "display_name": "Python 3"
    },
    "language_info": {
      "name": "python"
    }
  },
  "cells": [
    {
      "cell_type": "markdown",
      "metadata": {
        "id": "view-in-github",
        "colab_type": "text"
      },
      "source": [
        "<a href=\"https://colab.research.google.com/github/kanami-ogata/Basis-Python/blob/kanamiogata-1/Untitled0.ipynb\" target=\"_parent\"><img src=\"https://colab.research.google.com/assets/colab-badge.svg\" alt=\"Open In Colab\"/></a>"
      ]
    },
    {
      "cell_type": "code",
      "source": [
        "a=1\n",
        "b=-6\n",
        "c=9\n",
        "\n",
        "x1=((-b)+(b**2-4*a*c)**(1/2))/(2*a)\n",
        "x2=((-b)-(b**2-4*a*c)**(1/2))/(2*a)\n",
        "print(x1,x2)"
      ],
      "metadata": {
        "colab": {
          "base_uri": "https://localhost:8080/"
        },
        "id": "Yx7Mv_6s72vG",
        "outputId": "39176303-c8f0-4b8e-81fc-6701cb85feca"
      },
      "execution_count": 18,
      "outputs": [
        {
          "output_type": "stream",
          "name": "stdout",
          "text": [
            "3.0 3.0\n"
          ]
        }
      ]
    },
    {
      "cell_type": "code",
      "source": [
        "a=1\n",
        "b=2\n",
        "c=-8\n",
        "\n",
        "x1=((-b)+(b**2-4*a*c)**(1/2))/(2*a)\n",
        "x2=((-b)-(b**2-4*a*c)**(1/2))/(2*a)\n",
        "print(x1,x2)"
      ],
      "metadata": {
        "colab": {
          "base_uri": "https://localhost:8080/"
        },
        "id": "lAbstayB9Il-",
        "outputId": "5d5053fe-c31c-42cd-da13-aa4327d87328"
      },
      "execution_count": 19,
      "outputs": [
        {
          "output_type": "stream",
          "name": "stdout",
          "text": [
            "2.0 -4.0\n"
          ]
        }
      ]
    },
    {
      "cell_type": "markdown",
      "source": [],
      "metadata": {
        "id": "_WKMkaaG4p-m"
      }
    },
    {
      "cell_type": "code",
      "source": [
        "a=8\n",
        "b=-6\n",
        "c=-35\n",
        "\n",
        "x1=((-b)+(b**2-4*a*c)**(1/2))/(2*a)\n",
        "x2=((-b)-(b**2-4*a*c)**(1/2))/(2*a)\n",
        "print(x1,x2)"
      ],
      "metadata": {
        "colab": {
          "base_uri": "https://localhost:8080/"
        },
        "id": "8MmD9j-J9UcC",
        "outputId": "76251463-eb11-46a9-e6a1-94a97616b044"
      },
      "execution_count": 20,
      "outputs": [
        {
          "output_type": "stream",
          "name": "stdout",
          "text": [
            "2.5 -1.75\n"
          ]
        }
      ]
    },
    {
      "cell_type": "code",
      "source": [
        "a=1\n",
        "b=0\n",
        "c=1\n",
        "\n",
        "x1=((-b)+(b**2-4*a*c)**(1/2))/(2*a)\n",
        "x2=((-b)-(b**2-4*a*c)**(1/2))/(2*a)\n",
        "print(x1,x2)"
      ],
      "metadata": {
        "colab": {
          "base_uri": "https://localhost:8080/"
        },
        "id": "8jOVkdBR9ZrM",
        "outputId": "bcf84510-82f9-4046-e097-cd88226a4000"
      },
      "execution_count": 21,
      "outputs": [
        {
          "output_type": "stream",
          "name": "stdout",
          "text": [
            "(6.123233995736766e-17+1j) (-6.123233995736766e-17-1j)\n"
          ]
        }
      ]
    }
  ]
}